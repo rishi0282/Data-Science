{
 "cells": [
  {
   "cell_type": "code",
   "execution_count": 1,
   "metadata": {},
   "outputs": [],
   "source": [
    "import numpy as np"
   ]
  },
  {
   "cell_type": "code",
   "execution_count": 4,
   "metadata": {},
   "outputs": [
    {
     "data": {
      "text/plain": [
       "array([1, 2, 3, 4])"
      ]
     },
     "execution_count": 4,
     "metadata": {},
     "output_type": "execute_result"
    }
   ],
   "source": [
    "a = np.array([1,2,3,4])\n",
    "a"
   ]
  },
  {
   "cell_type": "code",
   "execution_count": 5,
   "metadata": {},
   "outputs": [
    {
     "data": {
      "text/plain": [
       "1"
      ]
     },
     "execution_count": 5,
     "metadata": {},
     "output_type": "execute_result"
    }
   ],
   "source": [
    "a.ndim"
   ]
  },
  {
   "cell_type": "code",
   "execution_count": 6,
   "metadata": {},
   "outputs": [
    {
     "data": {
      "text/plain": [
       "array([[1, 2, 3],\n",
       "       [4, 5, 6],\n",
       "       [7, 8, 9]])"
      ]
     },
     "execution_count": 6,
     "metadata": {},
     "output_type": "execute_result"
    }
   ],
   "source": [
    "b = np.array([[1,2,3,],[4,5,6,],[7,8,9]])\n",
    "b"
   ]
  },
  {
   "cell_type": "code",
   "execution_count": 7,
   "metadata": {},
   "outputs": [
    {
     "data": {
      "text/plain": [
       "2"
      ]
     },
     "execution_count": 7,
     "metadata": {},
     "output_type": "execute_result"
    }
   ],
   "source": [
    "b.ndim"
   ]
  },
  {
   "cell_type": "code",
   "execution_count": 10,
   "metadata": {},
   "outputs": [],
   "source": [
    "c = np.array([[[1,2,3],[4,5,6],[7,8,9]],\n",
    "     [[1,2,3],[4,5,6],[7,8,9]],\n",
    "     [[1,2,3],[4,5,6],[7,8,9]]])"
   ]
  },
  {
   "cell_type": "code",
   "execution_count": 11,
   "metadata": {},
   "outputs": [
    {
     "data": {
      "text/plain": [
       "3"
      ]
     },
     "execution_count": 11,
     "metadata": {},
     "output_type": "execute_result"
    }
   ],
   "source": [
    "c.ndim"
   ]
  },
  {
   "cell_type": "code",
   "execution_count": 17,
   "metadata": {},
   "outputs": [],
   "source": [
    "d = np.array([[[[1,2,3],[4,5,6],[7,8,9]],\n",
    "     [[1,2,3],[4,5,6],[7,8,9]],\n",
    "     [[1,2,3],[4,5,6],[7,8,9]]],\n",
    "     [[[1,2,3],[4,5,6],[7,8,9]],\n",
    "     [[1,2,3],[4,5,6],[7,8,9]],\n",
    "     [[1,2,3],[4,5,6],[7,8,9]]],\n",
    "     [[[1,2,3],[4,5,6],[7,8,9]],\n",
    "     [[1,2,3],[4,5,6],[7,8,9]],\n",
    "     [[1,2,3],[4,5,6],[7,8,9]]]])"
   ]
  },
  {
   "cell_type": "code",
   "execution_count": 18,
   "metadata": {},
   "outputs": [
    {
     "data": {
      "text/plain": [
       "4"
      ]
     },
     "execution_count": 18,
     "metadata": {},
     "output_type": "execute_result"
    }
   ],
   "source": [
    "d.ndim"
   ]
  },
  {
   "cell_type": "code",
   "execution_count": 19,
   "metadata": {},
   "outputs": [
    {
     "data": {
      "text/plain": [
       "(3, 3, 3, 3)"
      ]
     },
     "execution_count": 19,
     "metadata": {},
     "output_type": "execute_result"
    }
   ],
   "source": [
    "d.shape"
   ]
  },
  {
   "cell_type": "code",
   "execution_count": 20,
   "metadata": {},
   "outputs": [
    {
     "data": {
      "text/plain": [
       "81"
      ]
     },
     "execution_count": 20,
     "metadata": {},
     "output_type": "execute_result"
    }
   ],
   "source": [
    "# Number of elements in d = 3*3*3*3\n",
    "d_elements = 3*3*3*3\n",
    "d_elements"
   ]
  },
  {
   "cell_type": "markdown",
   "metadata": {},
   "source": [
    "Distance of a vector from the origin"
   ]
  },
  {
   "cell_type": "code",
   "execution_count": 23,
   "metadata": {},
   "outputs": [
    {
     "data": {
      "text/plain": [
       "101.91172650877817"
      ]
     },
     "execution_count": 23,
     "metadata": {},
     "output_type": "execute_result"
    }
   ],
   "source": [
    "vec = np.array([1,2,3,44,5,6,7,8,9,9,90])\n",
    "vec.shape\n",
    "# So this is a 11-dimensional vector \n",
    "# Now, we want to calculate the distance of this vector from the origin\n",
    "\n",
    "distance = np.linalg.norm(vec)\n",
    "distance"
   ]
  },
  {
   "cell_type": "markdown",
   "metadata": {},
   "source": [
    "Distance between the vectors in an n-dimensional vector space"
   ]
  },
  {
   "cell_type": "code",
   "execution_count": 26,
   "metadata": {},
   "outputs": [
    {
     "data": {
      "text/plain": [
       "array([44, 32, -1,  0,  0,  0,  0,  0, -5])"
      ]
     },
     "execution_count": 26,
     "metadata": {},
     "output_type": "execute_result"
    }
   ],
   "source": [
    "vec1 = np.array([1,2,3,4,5,6,7,8,9])\n",
    "vec2 = np.array([45,34,2,4,5,6,7,8,4])\n",
    "\n",
    "diff = vec2 - vec1\n",
    "diff \n"
   ]
  },
  {
   "cell_type": "code",
   "execution_count": 30,
   "metadata": {},
   "outputs": [
    {
     "name": "stdout",
     "output_type": "stream",
     "text": [
      "Euclidean distance between vector1 and vector2 : 54.644304369257\n"
     ]
    }
   ],
   "source": [
    "distance_between_vec1_vec2 = np.linalg.norm(diff)\n",
    "print(f\"Euclidean distance between vector1 and vector2 : {distance_between_vec1_vec2}\")"
   ]
  },
  {
   "cell_type": "markdown",
   "metadata": {},
   "source": [
    "Addition/Subtraction of any scalar quantity from a Vector results in the shifting of Vector.\n",
    "\n",
    "And in Machine Learning, There is a concept of \"Mean Centering\", Where we shift the vectors points around the mean values.\n",
    "\n",
    "##### Mean Centering"
   ]
  },
  {
   "cell_type": "code",
   "execution_count": 49,
   "metadata": {},
   "outputs": [
    {
     "name": "stdout",
     "output_type": "stream",
     "text": [
      "x:[16, 12, 20, 20, 13, 24, 20, 15, 24, 15, 21, 24, 20, 20, 12, 11, 28, 10, 11, 13, 17, 19, 11, 21, 25, 14, 27, 28, 28, 21],y:[26, 17, 27, 27, 28, 25, 16, 15, 24, 26, 13, 10, 16, 25, 21, 20, 16, 19, 28, 28, 17, 14, 11, 26, 17, 21, 28, 25, 25, 17]\n"
     ]
    }
   ],
   "source": [
    "import random\n",
    "x = []\n",
    "y = []\n",
    "for i in range (30):\n",
    "    x.append(random.randrange(10,30))\n",
    "for i in range (30):\n",
    "    y.append(random.randrange(10,30))\n",
    "print(f\"x:{x},y:{y}\")"
   ]
  },
  {
   "cell_type": "code",
   "execution_count": 59,
   "metadata": {},
   "outputs": [],
   "source": [
    "x= np.array(x)\n",
    "x_mean = x.mean()"
   ]
  },
  {
   "cell_type": "code",
   "execution_count": 60,
   "metadata": {},
   "outputs": [],
   "source": [
    "y = np.array(y)\n",
    "y_mean = y.mean()"
   ]
  },
  {
   "cell_type": "code",
   "execution_count": 61,
   "metadata": {},
   "outputs": [
    {
     "data": {
      "text/plain": [
       "array([-2.66666667, -6.66666667,  1.33333333,  1.33333333, -5.66666667,\n",
       "        5.33333333,  1.33333333, -3.66666667,  5.33333333, -3.66666667,\n",
       "        2.33333333,  5.33333333,  1.33333333,  1.33333333, -6.66666667,\n",
       "       -7.66666667,  9.33333333, -8.66666667, -7.66666667, -5.66666667,\n",
       "       -1.66666667,  0.33333333, -7.66666667,  2.33333333,  6.33333333,\n",
       "       -4.66666667,  8.33333333,  9.33333333,  9.33333333,  2.33333333])"
      ]
     },
     "execution_count": 61,
     "metadata": {},
     "output_type": "execute_result"
    }
   ],
   "source": [
    "x_ = x - x_mean\n",
    "x_"
   ]
  },
  {
   "cell_type": "code",
   "execution_count": 63,
   "metadata": {},
   "outputs": [
    {
     "data": {
      "text/plain": [
       "array([  5.06666667,  -3.93333333,   6.06666667,   6.06666667,\n",
       "         7.06666667,   4.06666667,  -4.93333333,  -5.93333333,\n",
       "         3.06666667,   5.06666667,  -7.93333333, -10.93333333,\n",
       "        -4.93333333,   4.06666667,   0.06666667,  -0.93333333,\n",
       "        -4.93333333,  -1.93333333,   7.06666667,   7.06666667,\n",
       "        -3.93333333,  -6.93333333,  -9.93333333,   5.06666667,\n",
       "        -3.93333333,   0.06666667,   7.06666667,   4.06666667,\n",
       "         4.06666667,  -3.93333333])"
      ]
     },
     "execution_count": 63,
     "metadata": {},
     "output_type": "execute_result"
    }
   ],
   "source": [
    "y_ = y - y_mean\n",
    "y_"
   ]
  },
  {
   "cell_type": "code",
   "execution_count": 86,
   "metadata": {},
   "outputs": [],
   "source": [
    "x_mean_new = x_.mean()"
   ]
  },
  {
   "cell_type": "code",
   "execution_count": 87,
   "metadata": {},
   "outputs": [],
   "source": [
    "y_mean_new = y_.mean()"
   ]
  },
  {
   "cell_type": "code",
   "execution_count": null,
   "metadata": {},
   "outputs": [
    {
     "data": {
      "text/plain": [
       "<matplotlib.legend.Legend at 0x1424838c0b0>"
      ]
     },
     "execution_count": 96,
     "metadata": {},
     "output_type": "execute_result"
    },
    {
     "data": {
      "image/png": "[encoded data removed]",
      "text/plain": [
       "<Figure size 1200x600 with 2 Axes>"
      ]
     },
     "metadata": {},
     "output_type": "display_data"
    }
   ],
   "source": [
    "import matplotlib.pyplot as plt\n",
    "plt.figure(figsize=(12,6))\n",
    "plt.subplot(1,2,1)\n",
    "plt.scatter(x,y,color= 'red',label = \"Original Data\")\n",
    "plt.title(\"Before Mean Centering\")\n",
    "plt.vlines(x_mean,ymin=-0.5,ymax=50.5,color='black')\n",
    "plt.hlines(y_mean,xmin=0,xmax=50,color = \"black\")\n",
    "plt.legend()\n",
    "plt.subplot(1,2,2)\n",
    "plt.scatter(x_,y_,color = 'purple',label = 'Data After Mean Centering')\n",
    "plt.title(\"After Mean Centering\")\n",
    "plt.vlines(x_mean_new,ymin=-20.5,ymax=50.5,color='black')\n",
    "plt.hlines(y_mean_new,xmin=-20.5,xmax=50,color = \"black\")\n",
    "plt.legend()"
   ]
  },
  {
   "cell_type": "markdown",
   "metadata": {},
   "source": [
    "#### ALL ABOUT MATRIX\n",
    "System of Linear Equation\n",
    "\n",
    "x + 2y + 3z = 9\n",
    "\n",
    "4x + 5y + 6Z = 8\n",
    "\n",
    "7x + 7y + 9z = 7"
   ]
  },
  {
   "cell_type": "code",
   "execution_count": 102,
   "metadata": {},
   "outputs": [
    {
     "data": {
      "text/plain": [
       "array([[1, 2, 3],\n",
       "       [4, 5, 6],\n",
       "       [7, 7, 9]])"
      ]
     },
     "execution_count": 102,
     "metadata": {},
     "output_type": "execute_result"
    }
   ],
   "source": [
    "A = np.array([[1,2,3],[4,5,6],[7,7,9]])\n",
    "A"
   ]
  },
  {
   "cell_type": "code",
   "execution_count": 100,
   "metadata": {},
   "outputs": [
    {
     "data": {
      "text/plain": [
       "array([9, 8, 7])"
      ]
     },
     "execution_count": 100,
     "metadata": {},
     "output_type": "execute_result"
    }
   ],
   "source": [
    "B = np.array([9,8,7])\n",
    "B"
   ]
  },
  {
   "cell_type": "code",
   "execution_count": 103,
   "metadata": {},
   "outputs": [],
   "source": [
    "A_inv = np.linalg.inv(A)"
   ]
  },
  {
   "cell_type": "code",
   "execution_count": 104,
   "metadata": {},
   "outputs": [],
   "source": [
    "X = np.matmul(B,A_inv)"
   ]
  },
  {
   "cell_type": "code",
   "execution_count": 107,
   "metadata": {},
   "outputs": [
    {
     "name": "stdout",
     "output_type": "stream",
     "text": [
      "x: -4.333333333333336, y: 12, z: 20\n"
     ]
    }
   ],
   "source": [
    "print(f\"x: {X[0]}, y: {x[1]}, z: {x[2]}\")"
   ]
  }
 ],
 "metadata": {
  "kernelspec": {
   "display_name": "Python 3",
   "language": "python",
   "name": "python3"
  },
  "language_info": {
   "codemirror_mode": {
    "name": "ipython",
    "version": 3
   },
   "file_extension": ".py",
   "mimetype": "text/x-python",
   "name": "python",
   "nbconvert_exporter": "python",
   "pygments_lexer": "ipython3",
   "version": "3.12.4"
  }
 },
 "nbformat": 4,
 "nbformat_minor": 2
}
