{
 "cells": [
  {
   "cell_type": "code",
   "execution_count": 37,
   "metadata": {},
   "outputs": [],
   "source": [
    "# pip install plotly"
   ]
  },
  {
   "cell_type": "code",
   "execution_count": 38,
   "metadata": {},
   "outputs": [],
   "source": [
    "# pip install --upgrade nbformat\n"
   ]
  },
  {
   "cell_type": "code",
   "execution_count": 39,
   "metadata": {},
   "outputs": [],
   "source": [
    "# pip install --upgrade pip"
   ]
  },
  {
   "cell_type": "code",
   "execution_count": 40,
   "metadata": {},
   "outputs": [],
   "source": [
    "from sklearn.datasets import make_regression\n",
    "import pandas as pd\n",
    "import plotly.express as px\n",
    "import plotly.graph_objects as go\n",
    "import numpy as np\n",
    "x,y = make_regression(n_samples=100,n_features=2,n_informative=2,n_targets=1,noise=50)\n"
   ]
  },
  {
   "cell_type": "code",
   "execution_count": 41,
   "metadata": {},
   "outputs": [
    {
     "data": {
      "text/plain": [
       "array([[-0.77162106, -0.15256576],\n",
       "       [ 1.20729622,  2.87358792],\n",
       "       [ 0.72470261,  0.38695218],\n",
       "       [-1.39362784, -0.27814801],\n",
       "       [-0.02907854,  0.24632014],\n",
       "       [ 0.34775262, -0.11102526],\n",
       "       [-1.33428173, -1.04818781],\n",
       "       [-0.39977042, -0.44928669],\n",
       "       [-0.19336219, -0.1868083 ],\n",
       "       [-1.85891578, -1.77024915],\n",
       "       [-0.72186393, -0.43766812],\n",
       "       [-1.56295751, -1.10526791],\n",
       "       [ 0.30719363,  0.52707061],\n",
       "       [ 0.66030384, -0.4823344 ],\n",
       "       [ 0.57526228, -0.50381481],\n",
       "       [-0.93098482, -0.19806447],\n",
       "       [ 1.27990056,  0.44598061],\n",
       "       [-0.09017168,  0.40545217],\n",
       "       [-0.84442179, -0.80856693],\n",
       "       [-0.57479245, -0.873286  ],\n",
       "       [-0.45293716, -1.54592584],\n",
       "       [-1.26312277,  1.24745346],\n",
       "       [ 0.38215882,  2.20170774],\n",
       "       [-1.59938253, -0.11038519],\n",
       "       [ 0.95435212,  0.26405201],\n",
       "       [ 0.48924475, -0.0336699 ],\n",
       "       [ 0.66568883, -0.17104972],\n",
       "       [-0.53576376, -1.88450833],\n",
       "       [-0.18189001,  0.13062432],\n",
       "       [-0.26721752,  0.92060145],\n",
       "       [-0.04436628,  1.31622141],\n",
       "       [-0.73265158, -1.13835583],\n",
       "       [-1.23731722, -1.38020314],\n",
       "       [-0.47353921,  0.74944825],\n",
       "       [-1.18543642,  1.93080506],\n",
       "       [-2.0387917 ,  0.81531579],\n",
       "       [ 1.57209409,  1.70803512],\n",
       "       [ 0.56517535,  1.3671146 ],\n",
       "       [ 0.7273605 ,  1.59771763],\n",
       "       [-0.0226608 ,  0.19205192],\n",
       "       [-0.42420052,  0.54157987],\n",
       "       [-0.17204151, -0.9261589 ],\n",
       "       [ 0.59698269, -0.16495492],\n",
       "       [ 3.28366344, -0.05330035],\n",
       "       [-0.82533777, -0.27132921],\n",
       "       [ 1.37523639, -0.95317954],\n",
       "       [ 0.63188171, -0.0655541 ],\n",
       "       [-0.32405693, -1.08266987],\n",
       "       [ 1.19666846,  0.27146882],\n",
       "       [-0.96286581,  1.33817548],\n",
       "       [-1.03778775,  1.9208457 ],\n",
       "       [-3.32399129,  1.36710561],\n",
       "       [-1.68328748,  1.18792451],\n",
       "       [-0.1586884 ,  1.04463655],\n",
       "       [ 2.23589089, -0.55745242],\n",
       "       [ 1.26286813,  0.54351886],\n",
       "       [-0.99849288, -1.33473523],\n",
       "       [-0.7666545 , -0.26044686],\n",
       "       [ 1.4168792 ,  2.11164118],\n",
       "       [-0.69740494,  0.048169  ],\n",
       "       [ 0.13044063,  1.37151955],\n",
       "       [-0.74582937,  0.49306461],\n",
       "       [-0.17423155,  0.27216814],\n",
       "       [ 0.53986938, -0.37888731],\n",
       "       [ 0.07288745, -0.3470995 ],\n",
       "       [-1.11399498,  1.07357666],\n",
       "       [-1.88632886,  0.35831376],\n",
       "       [-1.98416675, -1.21973741],\n",
       "       [ 1.12785768, -0.46665284],\n",
       "       [ 0.84339418,  0.91694469],\n",
       "       [-1.1368169 , -0.36832844],\n",
       "       [ 0.50627257,  1.04645584],\n",
       "       [ 0.45621593, -0.61468569],\n",
       "       [ 0.91618655, -0.25584995],\n",
       "       [ 1.30655976,  1.28277724],\n",
       "       [-0.2465649 ,  0.62101573],\n",
       "       [-0.79362592,  0.554181  ],\n",
       "       [ 0.19569092, -1.59169411],\n",
       "       [-1.74768883,  0.09939071],\n",
       "       [ 0.46652573, -1.21892619],\n",
       "       [ 0.96431007, -1.71768471],\n",
       "       [-0.08946105,  0.49600343],\n",
       "       [-1.03313125, -0.63420753],\n",
       "       [-1.91050643, -0.50161092],\n",
       "       [ 0.22088507, -0.62957801],\n",
       "       [ 0.26863826, -1.03948407],\n",
       "       [-0.82030258,  0.76933299],\n",
       "       [ 1.79807047, -0.88685778],\n",
       "       [-1.3051866 ,  0.32640013],\n",
       "       [-0.0284526 ,  0.53346739],\n",
       "       [-0.80006096,  1.15110286],\n",
       "       [ 0.45918284,  1.70549042],\n",
       "       [-0.71667124, -0.25258443],\n",
       "       [ 0.7924463 ,  0.62470071],\n",
       "       [-0.89321782, -0.38867539],\n",
       "       [-1.0295191 ,  0.32068677],\n",
       "       [ 0.59933274, -0.03068372],\n",
       "       [ 0.23515626,  0.26014117],\n",
       "       [ 0.08584674, -2.0182285 ],\n",
       "       [ 0.93330602, -0.4703534 ]])"
      ]
     },
     "execution_count": 41,
     "metadata": {},
     "output_type": "execute_result"
    }
   ],
   "source": [
    "x"
   ]
  },
  {
   "cell_type": "code",
   "execution_count": 42,
   "metadata": {},
   "outputs": [
    {
     "data": {
      "text/html": [
       "<div>\n",
       "<style scoped>\n",
       "    .dataframe tbody tr th:only-of-type {\n",
       "        vertical-align: middle;\n",
       "    }\n",
       "\n",
       "    .dataframe tbody tr th {\n",
       "        vertical-align: top;\n",
       "    }\n",
       "\n",
       "    .dataframe thead th {\n",
       "        text-align: right;\n",
       "    }\n",
       "</style>\n",
       "<table border=\"1\" class=\"dataframe\">\n",
       "  <thead>\n",
       "    <tr style=\"text-align: right;\">\n",
       "      <th></th>\n",
       "      <th>feature 1</th>\n",
       "      <th>feature 2</th>\n",
       "      <th>target</th>\n",
       "    </tr>\n",
       "  </thead>\n",
       "  <tbody>\n",
       "    <tr>\n",
       "      <th>0</th>\n",
       "      <td>-0.771621</td>\n",
       "      <td>-0.152566</td>\n",
       "      <td>-10.660364</td>\n",
       "    </tr>\n",
       "    <tr>\n",
       "      <th>1</th>\n",
       "      <td>1.207296</td>\n",
       "      <td>2.873588</td>\n",
       "      <td>144.987683</td>\n",
       "    </tr>\n",
       "    <tr>\n",
       "      <th>2</th>\n",
       "      <td>0.724703</td>\n",
       "      <td>0.386952</td>\n",
       "      <td>73.185813</td>\n",
       "    </tr>\n",
       "    <tr>\n",
       "      <th>3</th>\n",
       "      <td>-1.393628</td>\n",
       "      <td>-0.278148</td>\n",
       "      <td>-43.823076</td>\n",
       "    </tr>\n",
       "    <tr>\n",
       "      <th>4</th>\n",
       "      <td>-0.029079</td>\n",
       "      <td>0.246320</td>\n",
       "      <td>37.128738</td>\n",
       "    </tr>\n",
       "    <tr>\n",
       "      <th>...</th>\n",
       "      <td>...</td>\n",
       "      <td>...</td>\n",
       "      <td>...</td>\n",
       "    </tr>\n",
       "    <tr>\n",
       "      <th>95</th>\n",
       "      <td>-1.029519</td>\n",
       "      <td>0.320687</td>\n",
       "      <td>25.234355</td>\n",
       "    </tr>\n",
       "    <tr>\n",
       "      <th>96</th>\n",
       "      <td>0.599333</td>\n",
       "      <td>-0.030684</td>\n",
       "      <td>14.950125</td>\n",
       "    </tr>\n",
       "    <tr>\n",
       "      <th>97</th>\n",
       "      <td>0.235156</td>\n",
       "      <td>0.260141</td>\n",
       "      <td>26.336695</td>\n",
       "    </tr>\n",
       "    <tr>\n",
       "      <th>98</th>\n",
       "      <td>0.085847</td>\n",
       "      <td>-2.018228</td>\n",
       "      <td>-102.920753</td>\n",
       "    </tr>\n",
       "    <tr>\n",
       "      <th>99</th>\n",
       "      <td>0.933306</td>\n",
       "      <td>-0.470353</td>\n",
       "      <td>-10.560356</td>\n",
       "    </tr>\n",
       "  </tbody>\n",
       "</table>\n",
       "<p>100 rows × 3 columns</p>\n",
       "</div>"
      ],
      "text/plain": [
       "    feature 1  feature 2      target\n",
       "0   -0.771621  -0.152566  -10.660364\n",
       "1    1.207296   2.873588  144.987683\n",
       "2    0.724703   0.386952   73.185813\n",
       "3   -1.393628  -0.278148  -43.823076\n",
       "4   -0.029079   0.246320   37.128738\n",
       "..        ...        ...         ...\n",
       "95  -1.029519   0.320687   25.234355\n",
       "96   0.599333  -0.030684   14.950125\n",
       "97   0.235156   0.260141   26.336695\n",
       "98   0.085847  -2.018228 -102.920753\n",
       "99   0.933306  -0.470353  -10.560356\n",
       "\n",
       "[100 rows x 3 columns]"
      ]
     },
     "execution_count": 42,
     "metadata": {},
     "output_type": "execute_result"
    }
   ],
   "source": [
    "dataset = pd.DataFrame({'feature 1':x[:,0],'feature 2':x[:,1],'target':y})\n",
    "dataset"
   ]
  },
  {
   "cell_type": "code",
   "execution_count": 43,
   "metadata": {},
   "outputs": [],
   "source": [
    "from sklearn.model_selection import train_test_split\n",
    "x_train,x_test,y_train,y_test = train_test_split(x,y,test_size= 0.2,random_state=10)"
   ]
  },
  {
   "cell_type": "code",
   "execution_count": 44,
   "metadata": {},
   "outputs": [
    {
     "data": {
      "text/html": [
       "<style>#sk-container-id-3 {\n",
       "  /* Definition of color scheme common for light and dark mode */\n",
       "  --sklearn-color-text: black;\n",
       "  --sklearn-color-line: gray;\n",
       "  /* Definition of color scheme for unfitted estimators */\n",
       "  --sklearn-color-unfitted-level-0: #fff5e6;\n",
       "  --sklearn-color-unfitted-level-1: #f6e4d2;\n",
       "  --sklearn-color-unfitted-level-2: #ffe0b3;\n",
       "  --sklearn-color-unfitted-level-3: chocolate;\n",
       "  /* Definition of color scheme for fitted estimators */\n",
       "  --sklearn-color-fitted-level-0: #f0f8ff;\n",
       "  --sklearn-color-fitted-level-1: #d4ebff;\n",
       "  --sklearn-color-fitted-level-2: #b3dbfd;\n",
       "  --sklearn-color-fitted-level-3: cornflowerblue;\n",
       "\n",
       "  /* Specific color for light theme */\n",
       "  --sklearn-color-text-on-default-background: var(--sg-text-color, var(--theme-code-foreground, var(--jp-content-font-color1, black)));\n",
       "  --sklearn-color-background: var(--sg-background-color, var(--theme-background, var(--jp-layout-color0, white)));\n",
       "  --sklearn-color-border-box: var(--sg-text-color, var(--theme-code-foreground, var(--jp-content-font-color1, black)));\n",
       "  --sklearn-color-icon: #696969;\n",
       "\n",
       "  @media (prefers-color-scheme: dark) {\n",
       "    /* Redefinition of color scheme for dark theme */\n",
       "    --sklearn-color-text-on-default-background: var(--sg-text-color, var(--theme-code-foreground, var(--jp-content-font-color1, white)));\n",
       "    --sklearn-color-background: var(--sg-background-color, var(--theme-background, var(--jp-layout-color0, #111)));\n",
       "    --sklearn-color-border-box: var(--sg-text-color, var(--theme-code-foreground, var(--jp-content-font-color1, white)));\n",
       "    --sklearn-color-icon: #878787;\n",
       "  }\n",
       "}\n",
       "\n",
       "#sk-container-id-3 {\n",
       "  color: var(--sklearn-color-text);\n",
       "}\n",
       "\n",
       "#sk-container-id-3 pre {\n",
       "  padding: 0;\n",
       "}\n",
       "\n",
       "#sk-container-id-3 input.sk-hidden--visually {\n",
       "  border: 0;\n",
       "  clip: rect(1px 1px 1px 1px);\n",
       "  clip: rect(1px, 1px, 1px, 1px);\n",
       "  height: 1px;\n",
       "  margin: -1px;\n",
       "  overflow: hidden;\n",
       "  padding: 0;\n",
       "  position: absolute;\n",
       "  width: 1px;\n",
       "}\n",
       "\n",
       "#sk-container-id-3 div.sk-dashed-wrapped {\n",
       "  border: 1px dashed var(--sklearn-color-line);\n",
       "  margin: 0 0.4em 0.5em 0.4em;\n",
       "  box-sizing: border-box;\n",
       "  padding-bottom: 0.4em;\n",
       "  background-color: var(--sklearn-color-background);\n",
       "}\n",
       "\n",
       "#sk-container-id-3 div.sk-container {\n",
       "  /* jupyter's `normalize.less` sets `[hidden] { display: none; }`\n",
       "     but bootstrap.min.css set `[hidden] { display: none !important; }`\n",
       "     so we also need the `!important` here to be able to override the\n",
       "     default hidden behavior on the sphinx rendered scikit-learn.org.\n",
       "     See: https://github.com/scikit-learn/scikit-learn/issues/21755 */\n",
       "  display: inline-block !important;\n",
       "  position: relative;\n",
       "}\n",
       "\n",
       "#sk-container-id-3 div.sk-text-repr-fallback {\n",
       "  display: none;\n",
       "}\n",
       "\n",
       "div.sk-parallel-item,\n",
       "div.sk-serial,\n",
       "div.sk-item {\n",
       "  /* draw centered vertical line to link estimators */\n",
       "  background-image: linear-gradient(var(--sklearn-color-text-on-default-background), var(--sklearn-color-text-on-default-background));\n",
       "  background-size: 2px 100%;\n",
       "  background-repeat: no-repeat;\n",
       "  background-position: center center;\n",
       "}\n",
       "\n",
       "/* Parallel-specific style estimator block */\n",
       "\n",
       "#sk-container-id-3 div.sk-parallel-item::after {\n",
       "  content: \"\";\n",
       "  width: 100%;\n",
       "  border-bottom: 2px solid var(--sklearn-color-text-on-default-background);\n",
       "  flex-grow: 1;\n",
       "}\n",
       "\n",
       "#sk-container-id-3 div.sk-parallel {\n",
       "  display: flex;\n",
       "  align-items: stretch;\n",
       "  justify-content: center;\n",
       "  background-color: var(--sklearn-color-background);\n",
       "  position: relative;\n",
       "}\n",
       "\n",
       "#sk-container-id-3 div.sk-parallel-item {\n",
       "  display: flex;\n",
       "  flex-direction: column;\n",
       "}\n",
       "\n",
       "#sk-container-id-3 div.sk-parallel-item:first-child::after {\n",
       "  align-self: flex-end;\n",
       "  width: 50%;\n",
       "}\n",
       "\n",
       "#sk-container-id-3 div.sk-parallel-item:last-child::after {\n",
       "  align-self: flex-start;\n",
       "  width: 50%;\n",
       "}\n",
       "\n",
       "#sk-container-id-3 div.sk-parallel-item:only-child::after {\n",
       "  width: 0;\n",
       "}\n",
       "\n",
       "/* Serial-specific style estimator block */\n",
       "\n",
       "#sk-container-id-3 div.sk-serial {\n",
       "  display: flex;\n",
       "  flex-direction: column;\n",
       "  align-items: center;\n",
       "  background-color: var(--sklearn-color-background);\n",
       "  padding-right: 1em;\n",
       "  padding-left: 1em;\n",
       "}\n",
       "\n",
       "\n",
       "/* Toggleable style: style used for estimator/Pipeline/ColumnTransformer box that is\n",
       "clickable and can be expanded/collapsed.\n",
       "- Pipeline and ColumnTransformer use this feature and define the default style\n",
       "- Estimators will overwrite some part of the style using the `sk-estimator` class\n",
       "*/\n",
       "\n",
       "/* Pipeline and ColumnTransformer style (default) */\n",
       "\n",
       "#sk-container-id-3 div.sk-toggleable {\n",
       "  /* Default theme specific background. It is overwritten whether we have a\n",
       "  specific estimator or a Pipeline/ColumnTransformer */\n",
       "  background-color: var(--sklearn-color-background);\n",
       "}\n",
       "\n",
       "/* Toggleable label */\n",
       "#sk-container-id-3 label.sk-toggleable__label {\n",
       "  cursor: pointer;\n",
       "  display: block;\n",
       "  width: 100%;\n",
       "  margin-bottom: 0;\n",
       "  padding: 0.5em;\n",
       "  box-sizing: border-box;\n",
       "  text-align: center;\n",
       "}\n",
       "\n",
       "#sk-container-id-3 label.sk-toggleable__label-arrow:before {\n",
       "  /* Arrow on the left of the label */\n",
       "  content: \"▸\";\n",
       "  float: left;\n",
       "  margin-right: 0.25em;\n",
       "  color: var(--sklearn-color-icon);\n",
       "}\n",
       "\n",
       "#sk-container-id-3 label.sk-toggleable__label-arrow:hover:before {\n",
       "  color: var(--sklearn-color-text);\n",
       "}\n",
       "\n",
       "/* Toggleable content - dropdown */\n",
       "\n",
       "#sk-container-id-3 div.sk-toggleable__content {\n",
       "  max-height: 0;\n",
       "  max-width: 0;\n",
       "  overflow: hidden;\n",
       "  text-align: left;\n",
       "  /* unfitted */\n",
       "  background-color: var(--sklearn-color-unfitted-level-0);\n",
       "}\n",
       "\n",
       "#sk-container-id-3 div.sk-toggleable__content.fitted {\n",
       "  /* fitted */\n",
       "  background-color: var(--sklearn-color-fitted-level-0);\n",
       "}\n",
       "\n",
       "#sk-container-id-3 div.sk-toggleable__content pre {\n",
       "  margin: 0.2em;\n",
       "  border-radius: 0.25em;\n",
       "  color: var(--sklearn-color-text);\n",
       "  /* unfitted */\n",
       "  background-color: var(--sklearn-color-unfitted-level-0);\n",
       "}\n",
       "\n",
       "#sk-container-id-3 div.sk-toggleable__content.fitted pre {\n",
       "  /* unfitted */\n",
       "  background-color: var(--sklearn-color-fitted-level-0);\n",
       "}\n",
       "\n",
       "#sk-container-id-3 input.sk-toggleable__control:checked~div.sk-toggleable__content {\n",
       "  /* Expand drop-down */\n",
       "  max-height: 200px;\n",
       "  max-width: 100%;\n",
       "  overflow: auto;\n",
       "}\n",
       "\n",
       "#sk-container-id-3 input.sk-toggleable__control:checked~label.sk-toggleable__label-arrow:before {\n",
       "  content: \"▾\";\n",
       "}\n",
       "\n",
       "/* Pipeline/ColumnTransformer-specific style */\n",
       "\n",
       "#sk-container-id-3 div.sk-label input.sk-toggleable__control:checked~label.sk-toggleable__label {\n",
       "  color: var(--sklearn-color-text);\n",
       "  background-color: var(--sklearn-color-unfitted-level-2);\n",
       "}\n",
       "\n",
       "#sk-container-id-3 div.sk-label.fitted input.sk-toggleable__control:checked~label.sk-toggleable__label {\n",
       "  background-color: var(--sklearn-color-fitted-level-2);\n",
       "}\n",
       "\n",
       "/* Estimator-specific style */\n",
       "\n",
       "/* Colorize estimator box */\n",
       "#sk-container-id-3 div.sk-estimator input.sk-toggleable__control:checked~label.sk-toggleable__label {\n",
       "  /* unfitted */\n",
       "  background-color: var(--sklearn-color-unfitted-level-2);\n",
       "}\n",
       "\n",
       "#sk-container-id-3 div.sk-estimator.fitted input.sk-toggleable__control:checked~label.sk-toggleable__label {\n",
       "  /* fitted */\n",
       "  background-color: var(--sklearn-color-fitted-level-2);\n",
       "}\n",
       "\n",
       "#sk-container-id-3 div.sk-label label.sk-toggleable__label,\n",
       "#sk-container-id-3 div.sk-label label {\n",
       "  /* The background is the default theme color */\n",
       "  color: var(--sklearn-color-text-on-default-background);\n",
       "}\n",
       "\n",
       "/* On hover, darken the color of the background */\n",
       "#sk-container-id-3 div.sk-label:hover label.sk-toggleable__label {\n",
       "  color: var(--sklearn-color-text);\n",
       "  background-color: var(--sklearn-color-unfitted-level-2);\n",
       "}\n",
       "\n",
       "/* Label box, darken color on hover, fitted */\n",
       "#sk-container-id-3 div.sk-label.fitted:hover label.sk-toggleable__label.fitted {\n",
       "  color: var(--sklearn-color-text);\n",
       "  background-color: var(--sklearn-color-fitted-level-2);\n",
       "}\n",
       "\n",
       "/* Estimator label */\n",
       "\n",
       "#sk-container-id-3 div.sk-label label {\n",
       "  font-family: monospace;\n",
       "  font-weight: bold;\n",
       "  display: inline-block;\n",
       "  line-height: 1.2em;\n",
       "}\n",
       "\n",
       "#sk-container-id-3 div.sk-label-container {\n",
       "  text-align: center;\n",
       "}\n",
       "\n",
       "/* Estimator-specific */\n",
       "#sk-container-id-3 div.sk-estimator {\n",
       "  font-family: monospace;\n",
       "  border: 1px dotted var(--sklearn-color-border-box);\n",
       "  border-radius: 0.25em;\n",
       "  box-sizing: border-box;\n",
       "  margin-bottom: 0.5em;\n",
       "  /* unfitted */\n",
       "  background-color: var(--sklearn-color-unfitted-level-0);\n",
       "}\n",
       "\n",
       "#sk-container-id-3 div.sk-estimator.fitted {\n",
       "  /* fitted */\n",
       "  background-color: var(--sklearn-color-fitted-level-0);\n",
       "}\n",
       "\n",
       "/* on hover */\n",
       "#sk-container-id-3 div.sk-estimator:hover {\n",
       "  /* unfitted */\n",
       "  background-color: var(--sklearn-color-unfitted-level-2);\n",
       "}\n",
       "\n",
       "#sk-container-id-3 div.sk-estimator.fitted:hover {\n",
       "  /* fitted */\n",
       "  background-color: var(--sklearn-color-fitted-level-2);\n",
       "}\n",
       "\n",
       "/* Specification for estimator info (e.g. \"i\" and \"?\") */\n",
       "\n",
       "/* Common style for \"i\" and \"?\" */\n",
       "\n",
       ".sk-estimator-doc-link,\n",
       "a:link.sk-estimator-doc-link,\n",
       "a:visited.sk-estimator-doc-link {\n",
       "  float: right;\n",
       "  font-size: smaller;\n",
       "  line-height: 1em;\n",
       "  font-family: monospace;\n",
       "  background-color: var(--sklearn-color-background);\n",
       "  border-radius: 1em;\n",
       "  height: 1em;\n",
       "  width: 1em;\n",
       "  text-decoration: none !important;\n",
       "  margin-left: 1ex;\n",
       "  /* unfitted */\n",
       "  border: var(--sklearn-color-unfitted-level-1) 1pt solid;\n",
       "  color: var(--sklearn-color-unfitted-level-1);\n",
       "}\n",
       "\n",
       ".sk-estimator-doc-link.fitted,\n",
       "a:link.sk-estimator-doc-link.fitted,\n",
       "a:visited.sk-estimator-doc-link.fitted {\n",
       "  /* fitted */\n",
       "  border: var(--sklearn-color-fitted-level-1) 1pt solid;\n",
       "  color: var(--sklearn-color-fitted-level-1);\n",
       "}\n",
       "\n",
       "/* On hover */\n",
       "div.sk-estimator:hover .sk-estimator-doc-link:hover,\n",
       ".sk-estimator-doc-link:hover,\n",
       "div.sk-label-container:hover .sk-estimator-doc-link:hover,\n",
       ".sk-estimator-doc-link:hover {\n",
       "  /* unfitted */\n",
       "  background-color: var(--sklearn-color-unfitted-level-3);\n",
       "  color: var(--sklearn-color-background);\n",
       "  text-decoration: none;\n",
       "}\n",
       "\n",
       "div.sk-estimator.fitted:hover .sk-estimator-doc-link.fitted:hover,\n",
       ".sk-estimator-doc-link.fitted:hover,\n",
       "div.sk-label-container:hover .sk-estimator-doc-link.fitted:hover,\n",
       ".sk-estimator-doc-link.fitted:hover {\n",
       "  /* fitted */\n",
       "  background-color: var(--sklearn-color-fitted-level-3);\n",
       "  color: var(--sklearn-color-background);\n",
       "  text-decoration: none;\n",
       "}\n",
       "\n",
       "/* Span, style for the box shown on hovering the info icon */\n",
       ".sk-estimator-doc-link span {\n",
       "  display: none;\n",
       "  z-index: 9999;\n",
       "  position: relative;\n",
       "  font-weight: normal;\n",
       "  right: .2ex;\n",
       "  padding: .5ex;\n",
       "  margin: .5ex;\n",
       "  width: min-content;\n",
       "  min-width: 20ex;\n",
       "  max-width: 50ex;\n",
       "  color: var(--sklearn-color-text);\n",
       "  box-shadow: 2pt 2pt 4pt #999;\n",
       "  /* unfitted */\n",
       "  background: var(--sklearn-color-unfitted-level-0);\n",
       "  border: .5pt solid var(--sklearn-color-unfitted-level-3);\n",
       "}\n",
       "\n",
       ".sk-estimator-doc-link.fitted span {\n",
       "  /* fitted */\n",
       "  background: var(--sklearn-color-fitted-level-0);\n",
       "  border: var(--sklearn-color-fitted-level-3);\n",
       "}\n",
       "\n",
       ".sk-estimator-doc-link:hover span {\n",
       "  display: block;\n",
       "}\n",
       "\n",
       "/* \"?\"-specific style due to the `<a>` HTML tag */\n",
       "\n",
       "#sk-container-id-3 a.estimator_doc_link {\n",
       "  float: right;\n",
       "  font-size: 1rem;\n",
       "  line-height: 1em;\n",
       "  font-family: monospace;\n",
       "  background-color: var(--sklearn-color-background);\n",
       "  border-radius: 1rem;\n",
       "  height: 1rem;\n",
       "  width: 1rem;\n",
       "  text-decoration: none;\n",
       "  /* unfitted */\n",
       "  color: var(--sklearn-color-unfitted-level-1);\n",
       "  border: var(--sklearn-color-unfitted-level-1) 1pt solid;\n",
       "}\n",
       "\n",
       "#sk-container-id-3 a.estimator_doc_link.fitted {\n",
       "  /* fitted */\n",
       "  border: var(--sklearn-color-fitted-level-1) 1pt solid;\n",
       "  color: var(--sklearn-color-fitted-level-1);\n",
       "}\n",
       "\n",
       "/* On hover */\n",
       "#sk-container-id-3 a.estimator_doc_link:hover {\n",
       "  /* unfitted */\n",
       "  background-color: var(--sklearn-color-unfitted-level-3);\n",
       "  color: var(--sklearn-color-background);\n",
       "  text-decoration: none;\n",
       "}\n",
       "\n",
       "#sk-container-id-3 a.estimator_doc_link.fitted:hover {\n",
       "  /* fitted */\n",
       "  background-color: var(--sklearn-color-fitted-level-3);\n",
       "}\n",
       "</style><div id=\"sk-container-id-3\" class=\"sk-top-container\"><div class=\"sk-text-repr-fallback\"><pre>LinearRegression()</pre><b>In a Jupyter environment, please rerun this cell to show the HTML representation or trust the notebook. <br />On GitHub, the HTML representation is unable to render, please try loading this page with nbviewer.org.</b></div><div class=\"sk-container\" hidden><div class=\"sk-item\"><div class=\"sk-estimator fitted sk-toggleable\"><input class=\"sk-toggleable__control sk-hidden--visually\" id=\"sk-estimator-id-3\" type=\"checkbox\" checked><label for=\"sk-estimator-id-3\" class=\"sk-toggleable__label fitted sk-toggleable__label-arrow fitted\">&nbsp;&nbsp;LinearRegression<a class=\"sk-estimator-doc-link fitted\" rel=\"noreferrer\" target=\"_blank\" href=\"https://scikit-learn.org/1.5/modules/generated/sklearn.linear_model.LinearRegression.html\">?<span>Documentation for LinearRegression</span></a><span class=\"sk-estimator-doc-link fitted\">i<span>Fitted</span></span></label><div class=\"sk-toggleable__content fitted\"><pre>LinearRegression()</pre></div> </div></div></div></div>"
      ],
      "text/plain": [
       "LinearRegression()"
      ]
     },
     "execution_count": 44,
     "metadata": {},
     "output_type": "execute_result"
    }
   ],
   "source": [
    "from sklearn.linear_model import LinearRegression\n",
    "mlr = LinearRegression()\n",
    "mlr.fit(x_train,y_train)"
   ]
  },
  {
   "cell_type": "code",
   "execution_count": 45,
   "metadata": {},
   "outputs": [
    {
     "data": {
      "text/plain": [
       "array([-36.48003603,  26.39488251, 170.22288254,  44.79807341,\n",
       "       -91.4660475 , -72.56726467,  13.57105131, -16.30447562,\n",
       "        55.47020664,  55.18633831,  43.08830226,  93.05318309,\n",
       "        22.4876524 ,   4.3140589 , -47.78763861,  82.06865721,\n",
       "       -37.49819725,  34.41026693, -33.4657757 ,  33.73877774])"
      ]
     },
     "execution_count": 45,
     "metadata": {},
     "output_type": "execute_result"
    }
   ],
   "source": [
    "y_pred = mlr.predict(x_test)\n",
    "y_pred"
   ]
  },
  {
   "cell_type": "code",
   "execution_count": 46,
   "metadata": {},
   "outputs": [
    {
     "name": "stdout",
     "output_type": "stream",
     "text": [
      "MSE: 3099.8616163441316\n",
      "MAE: 46.673967181737865\n",
      "R2_SCORE: 0.5895572144063684\n"
     ]
    }
   ],
   "source": [
    "from sklearn.metrics import mean_absolute_error,mean_squared_error,r2_score\n",
    "print(f'MSE: {mean_squared_error(y_test,y_pred)}')\n",
    "print(f'MAE: {mean_absolute_error(y_test,y_pred)}')\n",
    "print(f'R2_SCORE: {r2_score(y_test,y_pred)}')"
   ]
  },
  {
   "cell_type": "code",
   "execution_count": 47,
   "metadata": {},
   "outputs": [
    {
     "data": {
      "application/vnd.plotly.v1+json": {
       "config": {
        "plotlyServerURL": "https://plot.ly"
       },
       "data": [
        {
         "hovertemplate": "feature 1=%{x}<br>feature 2=%{y}<br>target=%{z}<extra></extra>",
         "legendgroup": "",
         "marker": {
          "color": "#636efa",
          "symbol": "circle"
         },
         "mode": "markers",
         "name": "",
         "scene": "scene",
         "showlegend": false,
         "type": "scatter3d",
         "x": {
          "bdata": "2cGRqB6x6L99tHHWFVHzP855hobDMOc/KfyRs0xM9r8GvtiUw8adv726xjSUQdY/wTK+zDdZ9b9fLSio1pXZv3AP6ZIXwMi/Ds2SeR6+/b9oOY5gghnnv2XEzLvfAfm/YslDfA+p0z+oImiCNSHlPzVs73GMaOI/RQyZrKDK7b+kuqgDeXr0P3xwUMJ9Fbe/zbFK2YAF67/GyDAgs2Tiv13LEins/Ny/aKr8OMA19L99oUFJSnXYP7vkFyQSl/m/1+75cg2K7j+WxIYyyU/fP//iradSTeU/pI/qB/ok4b92Q9EHLEjHv9XeXIcXGtG/SSu6Sy23pr8ECUa84XHnv82uMCMNzPO/4dk8aHdO3r8pLKwujPfyvxY9LAVyTwDAOSAgIUwn+T9VRPif6hXiPx4WnoeJRuc/2/9zaGQ0l798IyvsGSbbvwNyzM50Bca/IRn7cHsa4z/rI4NW8UQKQIskTr8qaeq/RXb03/cA9j/2YHUAYDjkP2Bk7kRZvdS/pn/I0o0l8z8LXir2y8/uv5Tf81PHmvC/n4h0voiXCsByIj/Zvu76v/H9ttHmT8S/a7MuwxrjAUB8EFU3tTT0P8uPzlWn8++/MsgUB2+I6L+z/+6Giav2P9wGZCwkUea/EHUUSEeywD/b8e+M1d3nv8O2hiY4Tca/8BxgJZxG4T96YC6IwKiyP7PJCGbs0vG/NMMELWcu/r+lbXejJb//vxA6iX20C/I/Wo/0zBX96j8FlLPrZjDyv6Vi24liM+A/yhDmTKQy3T8XVdN2ZlHtPx2N2TWr5/Q/oOpuQXCPz7/edqwuYmXpvwGogGRmDMk/H/fXkIj2+79EUwS5jtvdP7r/ncig2+4/e4c8aOvmtr879fegtIfwv/QwATBvkf6/KQqPQPZFzD8nkROIXjHRP94RMTHrP+q/G1TFi+XE/D+oGHJYC+L0vzUCLW6tIp2/3iF/cRma6b9AMxdtQGPdPxH92Yj47ua/y58iVrhb6T/fEEuMPZXsv6kLcgTpePC/oBZU27st4z9N+56pmRnOP4AHuj8N+rU/p74ElaTd7T8=",
          "dtype": "f8"
         },
         "y": {
          "bdata": "qdYAUUaHw79EKUapG/0GQHCksw7Tw9g/KxldUC3N0b+Tfl4Ra4fPP2wladUmbLy/6WXdlGDF8L/dvR/xHMHcvzODMY9V6ce/kb6qxfBS/L+ka20owQLcv5ae4Gctr/G/sZ02McPd4D99V5Qakd7evym/8TxAH+C/HwNlKC1ayb8kOzVD8orcP+Xbpqzt8tk/dAIHwMff6b8xjjl99fHrv9GLP7wcvPi/CLhjwpH18z931HnyGJ0BQGs4EyE0Qry/Ua5kajrm0D/av32FLj2hv4FSZhL15MW/ndIPNvIm/r92jb80TLjAPzE2zCqRde0/b7BILz4P9T+W52+btDbyv+BDLORPFfa/4CUy43r75z+W9YvXk+T+PzkplCMRF+o/Hq3coRxU+z99dbmOs9/1P1tv6FxAkPk/SUSVOyiVyD8hx3dNn1ThP8DIQP8Xo+2/DlIjKj4dxb/iDLjeLkqrv61+tTJ1XdG/4hWOY3KA7r+jb+M9J8iwv52/laSdUvG/DPMMwb5f0T9XgM+wKmn1PzD5CLTIu/4/p3sII6rf9T+HXHwgvQHzPxMtsc/UtvA/bujCdKbW4b86IYmngWThP2K0YFMTW/W/HeEcSymr0L9AfQMhpOQAQDqSSHebqag/8GrGer7x9T8Zc2feXo7fP0+m2OUza9E/e5H6j7A/2L9d7afT4DbWv5kYSLleLfE/Z7qN25zu1j+Ua4RgC4Tzv03NqN+j3d2/vPJIZZxX7T+3SEtxsZLXv1nIL3pIvvA/NU34VIGr47+AM7x12F/Qv9BVbm1BhvQ/de11X1zf4z8BNrTI2bvhP60ZKz2Ud/m/+Vdsb6txuT+LFnO/uIDzvyNBnvaie/u/jfTFK4W+3z/LqIKZbUvkv8gCh1gyDeC/urk+yoAl5L/w6wENuqHwv9KNfDZgnug/FxNwjyNh7L91O1pfvePUPwTKmDYqEuE/IXAl1upq8j/QXK5RsEn7P88QEeRXKtC/6dvoWIz94z+KoofBDuDYv8F9hc8hhtQ/QXlLvo1rn79MoxAhJ6bQP6fO0ftUJQDAa642KUUa3r8=",
          "dtype": "f8"
         },
         "z": {
          "bdata": "wi/1MRtSJcBE72EYmx9iQFDXYVzkS1JArrSFkVrpRcC6+uJ6epBCQIQ7P5ulaj3AJSdFSK6qUMCzE1IBVJA+wKy4Atw0dzfANzz5KAJ5R8CASp6DeKNGwKM25LEnE1HArhiQosRAUkAUh9C8/AViQGRSU+EPrmFA2ALITi8oUMAtnMp/W15WQIuf0G+TMjtAxDuWOC1fKEAWqVGces5VwJSCdJCwJSXAfmfHnzDjWcC9AtW38T5CwPBNNQQO8WHA5MnIFNHDW0C2RfOymA5dQLFOtl7LND5Al6hIObTtOsDalEdYayVKQLM7C2P08E7A6jqEnFYjVcB4AY1AeoVgwFa0DzCC4VrAwKEa5wJgMMCwb0EcqHxKwKkxzkRdOEzAXLBmqHs7WUCVePFNHsdGQD0EhG6cmWJAI/97/oSYG8CC+RsbRPxNQBQuMLKq90vAB3y+IBE9WUD1cg8Lik5oQMKp467Fu2HAhDvz67F0UkB4S+WpCBAVQBuQUkWXqU1ArX6EP9zJUUDgjB2Bt6HtvzLFRfACSDdAhkQM+nJGY8DAgfONUPFiwGfpP2EX21TA4FqMhikrF0BGSd7rPhpdQDTbVsjJrUPAClIUVJeATsCwc/glnu9kQC4vvo4xgVLAtOYKZn6CUECghH7bdf4ZQPIxY6YgfEFA+A7AkxNZVUCEU9npEztIwLql9c74NWDAbdMw96idVsDTyoz3OhlmwGRiC/59ZT9AmWPXjEoHTEAg1ClUV2hQwIoHV6PQAEDALX8/nU25QcCe2STKTPc8QHwGDZvCK2JA8NGupEIRSUCgCsohhonxv6Bp8L5l3D7ApyAFGY/dU8B/v3nkKvlUQBH9bFP6bCFAZ+1aAxq1OsBiNCa4J9YwwCLnOa26TkvAQBkS+Z0XQcA85icOupQSQJgeS7AnXzBAZKXhbqCjV0DPvJJL5PI6wA7jOFLYVSzABUwvQ8kcMsCi+QDbwoggQJhbyyGpgjlArqZl5t2sTEC3qODT+p1ZwPqwrrH+OzlANA6eyHbmLUAOzgijMVY6QDy95JztulnAsMK27+YeJcA=",
          "dtype": "f8"
         }
        }
       ],
       "layout": {
        "legend": {
         "tracegroupgap": 0
        },
        "margin": {
         "t": 60
        },
        "scene": {
         "domain": {
          "x": [
           0,
           1
          ],
          "y": [
           0,
           1
          ]
         },
         "xaxis": {
          "title": {
           "text": "feature 1"
          }
         },
         "yaxis": {
          "title": {
           "text": "feature 2"
          }
         },
         "zaxis": {
          "title": {
           "text": "target"
          }
         }
        },
        "template": {
         "data": {
          "bar": [
           {
            "error_x": {
             "color": "#2a3f5f"
            },
            "error_y": {
             "color": "#2a3f5f"
            },
            "marker": {
             "line": {
              "color": "#E5ECF6",
              "width": 0.5
             },
             "pattern": {
              "fillmode": "overlay",
              "size": 10,
              "solidity": 0.2
             }
            },
            "type": "bar"
           }
          ],
          "barpolar": [
           {
            "marker": {
             "line": {
              "color": "#E5ECF6",
              "width": 0.5
             },
             "pattern": {
              "fillmode": "overlay",
              "size": 10,
              "solidity": 0.2
             }
            },
            "type": "barpolar"
           }
          ],
          "carpet": [
           {
            "aaxis": {
             "endlinecolor": "#2a3f5f",
             "gridcolor": "white",
             "linecolor": "white",
             "minorgridcolor": "white",
             "startlinecolor": "#2a3f5f"
            },
            "baxis": {
             "endlinecolor": "#2a3f5f",
             "gridcolor": "white",
             "linecolor": "white",
             "minorgridcolor": "white",
             "startlinecolor": "#2a3f5f"
            },
            "type": "carpet"
           }
          ],
          "choropleth": [
           {
            "colorbar": {
             "outlinewidth": 0,
             "ticks": ""
            },
            "type": "choropleth"
           }
          ],
          "contour": [
           {
            "colorbar": {
             "outlinewidth": 0,
             "ticks": ""
            },
            "colorscale": [
             [
              0,
              "#0d0887"
             ],
             [
              0.1111111111111111,
              "#46039f"
             ],
             [
              0.2222222222222222,
              "#7201a8"
             ],
             [
              0.3333333333333333,
              "#9c179e"
             ],
             [
              0.4444444444444444,
              "#bd3786"
             ],
             [
              0.5555555555555556,
              "#d8576b"
             ],
             [
              0.6666666666666666,
              "#ed7953"
             ],
             [
              0.7777777777777778,
              "#fb9f3a"
             ],
             [
              0.8888888888888888,
              "#fdca26"
             ],
             [
              1,
              "#f0f921"
             ]
            ],
            "type": "contour"
           }
          ],
          "contourcarpet": [
           {
            "colorbar": {
             "outlinewidth": 0,
             "ticks": ""
            },
            "type": "contourcarpet"
           }
          ],
          "heatmap": [
           {
            "colorbar": {
             "outlinewidth": 0,
             "ticks": ""
            },
            "colorscale": [
             [
              0,
              "#0d0887"
             ],
             [
              0.1111111111111111,
              "#46039f"
             ],
             [
              0.2222222222222222,
              "#7201a8"
             ],
             [
              0.3333333333333333,
              "#9c179e"
             ],
             [
              0.4444444444444444,
              "#bd3786"
             ],
             [
              0.5555555555555556,
              "#d8576b"
             ],
             [
              0.6666666666666666,
              "#ed7953"
             ],
             [
              0.7777777777777778,
              "#fb9f3a"
             ],
             [
              0.8888888888888888,
              "#fdca26"
             ],
             [
              1,
              "#f0f921"
             ]
            ],
            "type": "heatmap"
           }
          ],
          "histogram": [
           {
            "marker": {
             "pattern": {
              "fillmode": "overlay",
              "size": 10,
              "solidity": 0.2
             }
            },
            "type": "histogram"
           }
          ],
          "histogram2d": [
           {
            "colorbar": {
             "outlinewidth": 0,
             "ticks": ""
            },
            "colorscale": [
             [
              0,
              "#0d0887"
             ],
             [
              0.1111111111111111,
              "#46039f"
             ],
             [
              0.2222222222222222,
              "#7201a8"
             ],
             [
              0.3333333333333333,
              "#9c179e"
             ],
             [
              0.4444444444444444,
              "#bd3786"
             ],
             [
              0.5555555555555556,
              "#d8576b"
             ],
             [
              0.6666666666666666,
              "#ed7953"
             ],
             [
              0.7777777777777778,
              "#fb9f3a"
             ],
             [
              0.8888888888888888,
              "#fdca26"
             ],
             [
              1,
              "#f0f921"
             ]
            ],
            "type": "histogram2d"
           }
          ],
          "histogram2dcontour": [
           {
            "colorbar": {
             "outlinewidth": 0,
             "ticks": ""
            },
            "colorscale": [
             [
              0,
              "#0d0887"
             ],
             [
              0.1111111111111111,
              "#46039f"
             ],
             [
              0.2222222222222222,
              "#7201a8"
             ],
             [
              0.3333333333333333,
              "#9c179e"
             ],
             [
              0.4444444444444444,
              "#bd3786"
             ],
             [
              0.5555555555555556,
              "#d8576b"
             ],
             [
              0.6666666666666666,
              "#ed7953"
             ],
             [
              0.7777777777777778,
              "#fb9f3a"
             ],
             [
              0.8888888888888888,
              "#fdca26"
             ],
             [
              1,
              "#f0f921"
             ]
            ],
            "type": "histogram2dcontour"
           }
          ],
          "mesh3d": [
           {
            "colorbar": {
             "outlinewidth": 0,
             "ticks": ""
            },
            "type": "mesh3d"
           }
          ],
          "parcoords": [
           {
            "line": {
             "colorbar": {
              "outlinewidth": 0,
              "ticks": ""
             }
            },
            "type": "parcoords"
           }
          ],
          "pie": [
           {
            "automargin": true,
            "type": "pie"
           }
          ],
          "scatter": [
           {
            "fillpattern": {
             "fillmode": "overlay",
             "size": 10,
             "solidity": 0.2
            },
            "type": "scatter"
           }
          ],
          "scatter3d": [
           {
            "line": {
             "colorbar": {
              "outlinewidth": 0,
              "ticks": ""
             }
            },
            "marker": {
             "colorbar": {
              "outlinewidth": 0,
              "ticks": ""
             }
            },
            "type": "scatter3d"
           }
          ],
          "scattercarpet": [
           {
            "marker": {
             "colorbar": {
              "outlinewidth": 0,
              "ticks": ""
             }
            },
            "type": "scattercarpet"
           }
          ],
          "scattergeo": [
           {
            "marker": {
             "colorbar": {
              "outlinewidth": 0,
              "ticks": ""
             }
            },
            "type": "scattergeo"
           }
          ],
          "scattergl": [
           {
            "marker": {
             "colorbar": {
              "outlinewidth": 0,
              "ticks": ""
             }
            },
            "type": "scattergl"
           }
          ],
          "scattermap": [
           {
            "marker": {
             "colorbar": {
              "outlinewidth": 0,
              "ticks": ""
             }
            },
            "type": "scattermap"
           }
          ],
          "scattermapbox": [
           {
            "marker": {
             "colorbar": {
              "outlinewidth": 0,
              "ticks": ""
             }
            },
            "type": "scattermapbox"
           }
          ],
          "scatterpolar": [
           {
            "marker": {
             "colorbar": {
              "outlinewidth": 0,
              "ticks": ""
             }
            },
            "type": "scatterpolar"
           }
          ],
          "scatterpolargl": [
           {
            "marker": {
             "colorbar": {
              "outlinewidth": 0,
              "ticks": ""
             }
            },
            "type": "scatterpolargl"
           }
          ],
          "scatterternary": [
           {
            "marker": {
             "colorbar": {
              "outlinewidth": 0,
              "ticks": ""
             }
            },
            "type": "scatterternary"
           }
          ],
          "surface": [
           {
            "colorbar": {
             "outlinewidth": 0,
             "ticks": ""
            },
            "colorscale": [
             [
              0,
              "#0d0887"
             ],
             [
              0.1111111111111111,
              "#46039f"
             ],
             [
              0.2222222222222222,
              "#7201a8"
             ],
             [
              0.3333333333333333,
              "#9c179e"
             ],
             [
              0.4444444444444444,
              "#bd3786"
             ],
             [
              0.5555555555555556,
              "#d8576b"
             ],
             [
              0.6666666666666666,
              "#ed7953"
             ],
             [
              0.7777777777777778,
              "#fb9f3a"
             ],
             [
              0.8888888888888888,
              "#fdca26"
             ],
             [
              1,
              "#f0f921"
             ]
            ],
            "type": "surface"
           }
          ],
          "table": [
           {
            "cells": {
             "fill": {
              "color": "#EBF0F8"
             },
             "line": {
              "color": "white"
             }
            },
            "header": {
             "fill": {
              "color": "#C8D4E3"
             },
             "line": {
              "color": "white"
             }
            },
            "type": "table"
           }
          ]
         },
         "layout": {
          "annotationdefaults": {
           "arrowcolor": "#2a3f5f",
           "arrowhead": 0,
           "arrowwidth": 1
          },
          "autotypenumbers": "strict",
          "coloraxis": {
           "colorbar": {
            "outlinewidth": 0,
            "ticks": ""
           }
          },
          "colorscale": {
           "diverging": [
            [
             0,
             "#8e0152"
            ],
            [
             0.1,
             "#c51b7d"
            ],
            [
             0.2,
             "#de77ae"
            ],
            [
             0.3,
             "#f1b6da"
            ],
            [
             0.4,
             "#fde0ef"
            ],
            [
             0.5,
             "#f7f7f7"
            ],
            [
             0.6,
             "#e6f5d0"
            ],
            [
             0.7,
             "#b8e186"
            ],
            [
             0.8,
             "#7fbc41"
            ],
            [
             0.9,
             "#4d9221"
            ],
            [
             1,
             "#276419"
            ]
           ],
           "sequential": [
            [
             0,
             "#0d0887"
            ],
            [
             0.1111111111111111,
             "#46039f"
            ],
            [
             0.2222222222222222,
             "#7201a8"
            ],
            [
             0.3333333333333333,
             "#9c179e"
            ],
            [
             0.4444444444444444,
             "#bd3786"
            ],
            [
             0.5555555555555556,
             "#d8576b"
            ],
            [
             0.6666666666666666,
             "#ed7953"
            ],
            [
             0.7777777777777778,
             "#fb9f3a"
            ],
            [
             0.8888888888888888,
             "#fdca26"
            ],
            [
             1,
             "#f0f921"
            ]
           ],
           "sequentialminus": [
            [
             0,
             "#0d0887"
            ],
            [
             0.1111111111111111,
             "#46039f"
            ],
            [
             0.2222222222222222,
             "#7201a8"
            ],
            [
             0.3333333333333333,
             "#9c179e"
            ],
            [
             0.4444444444444444,
             "#bd3786"
            ],
            [
             0.5555555555555556,
             "#d8576b"
            ],
            [
             0.6666666666666666,
             "#ed7953"
            ],
            [
             0.7777777777777778,
             "#fb9f3a"
            ],
            [
             0.8888888888888888,
             "#fdca26"
            ],
            [
             1,
             "#f0f921"
            ]
           ]
          },
          "colorway": [
           "#636efa",
           "#EF553B",
           "#00cc96",
           "#ab63fa",
           "#FFA15A",
           "#19d3f3",
           "#FF6692",
           "#B6E880",
           "#FF97FF",
           "#FECB52"
          ],
          "font": {
           "color": "#2a3f5f"
          },
          "geo": {
           "bgcolor": "white",
           "lakecolor": "white",
           "landcolor": "#E5ECF6",
           "showlakes": true,
           "showland": true,
           "subunitcolor": "white"
          },
          "hoverlabel": {
           "align": "left"
          },
          "hovermode": "closest",
          "mapbox": {
           "style": "light"
          },
          "paper_bgcolor": "white",
          "plot_bgcolor": "#E5ECF6",
          "polar": {
           "angularaxis": {
            "gridcolor": "white",
            "linecolor": "white",
            "ticks": ""
           },
           "bgcolor": "#E5ECF6",
           "radialaxis": {
            "gridcolor": "white",
            "linecolor": "white",
            "ticks": ""
           }
          },
          "scene": {
           "xaxis": {
            "backgroundcolor": "#E5ECF6",
            "gridcolor": "white",
            "gridwidth": 2,
            "linecolor": "white",
            "showbackground": true,
            "ticks": "",
            "zerolinecolor": "white"
           },
           "yaxis": {
            "backgroundcolor": "#E5ECF6",
            "gridcolor": "white",
            "gridwidth": 2,
            "linecolor": "white",
            "showbackground": true,
            "ticks": "",
            "zerolinecolor": "white"
           },
           "zaxis": {
            "backgroundcolor": "#E5ECF6",
            "gridcolor": "white",
            "gridwidth": 2,
            "linecolor": "white",
            "showbackground": true,
            "ticks": "",
            "zerolinecolor": "white"
           }
          },
          "shapedefaults": {
           "line": {
            "color": "#2a3f5f"
           }
          },
          "ternary": {
           "aaxis": {
            "gridcolor": "white",
            "linecolor": "white",
            "ticks": ""
           },
           "baxis": {
            "gridcolor": "white",
            "linecolor": "white",
            "ticks": ""
           },
           "bgcolor": "#E5ECF6",
           "caxis": {
            "gridcolor": "white",
            "linecolor": "white",
            "ticks": ""
           }
          },
          "title": {
           "x": 0.05
          },
          "xaxis": {
           "automargin": true,
           "gridcolor": "white",
           "linecolor": "white",
           "ticks": "",
           "title": {
            "standoff": 15
           },
           "zerolinecolor": "white",
           "zerolinewidth": 2
          },
          "yaxis": {
           "automargin": true,
           "gridcolor": "white",
           "linecolor": "white",
           "ticks": "",
           "title": {
            "standoff": 15
           },
           "zerolinecolor": "white",
           "zerolinewidth": 2
          }
         }
        }
       }
      }
     },
     "metadata": {},
     "output_type": "display_data"
    }
   ],
   "source": [
    "fig = px.scatter_3d(dataset,x='feature 1',y='feature 2',z = 'target')\n",
    "fig.show()"
   ]
  },
  {
   "cell_type": "code",
   "execution_count": 48,
   "metadata": {},
   "outputs": [],
   "source": [
    "x = np.linspace(-5,5,10)\n",
    "y = np.linspace(-5,5,10)\n",
    "xgrid,ygrid = np.meshgrid(y,x)\n",
    "final = np.vstack((xgrid.ravel().reshape(1,100),ygrid.ravel().reshape(1,100))).T\n",
    "z_final = mlr.predict(final).reshape(10,10)\n",
    "z = z_final"
   ]
  },
  {
   "cell_type": "code",
   "execution_count": 49,
   "metadata": {},
   "outputs": [
    {
     "data": {
      "application/vnd.plotly.v1+json": {
       "config": {
        "plotlyServerURL": "https://plot.ly"
       },
       "data": [
        {
         "hovertemplate": "feature 1=%{x}<br>feature 2=%{y}<br>target=%{z}<extra></extra>",
         "legendgroup": "",
         "marker": {
          "color": "#636efa",
          "symbol": "circle"
         },
         "mode": "markers",
         "name": "",
         "scene": "scene",
         "showlegend": false,
         "type": "scatter3d",
         "x": {
          "bdata": "2cGRqB6x6L99tHHWFVHzP855hobDMOc/KfyRs0xM9r8GvtiUw8adv726xjSUQdY/wTK+zDdZ9b9fLSio1pXZv3AP6ZIXwMi/Ds2SeR6+/b9oOY5gghnnv2XEzLvfAfm/YslDfA+p0z+oImiCNSHlPzVs73GMaOI/RQyZrKDK7b+kuqgDeXr0P3xwUMJ9Fbe/zbFK2YAF67/GyDAgs2Tiv13LEins/Ny/aKr8OMA19L99oUFJSnXYP7vkFyQSl/m/1+75cg2K7j+WxIYyyU/fP//iradSTeU/pI/qB/ok4b92Q9EHLEjHv9XeXIcXGtG/SSu6Sy23pr8ECUa84XHnv82uMCMNzPO/4dk8aHdO3r8pLKwujPfyvxY9LAVyTwDAOSAgIUwn+T9VRPif6hXiPx4WnoeJRuc/2/9zaGQ0l798IyvsGSbbvwNyzM50Bca/IRn7cHsa4z/rI4NW8UQKQIskTr8qaeq/RXb03/cA9j/2YHUAYDjkP2Bk7kRZvdS/pn/I0o0l8z8LXir2y8/uv5Tf81PHmvC/n4h0voiXCsByIj/Zvu76v/H9ttHmT8S/a7MuwxrjAUB8EFU3tTT0P8uPzlWn8++/MsgUB2+I6L+z/+6Giav2P9wGZCwkUea/EHUUSEeywD/b8e+M1d3nv8O2hiY4Tca/8BxgJZxG4T96YC6IwKiyP7PJCGbs0vG/NMMELWcu/r+lbXejJb//vxA6iX20C/I/Wo/0zBX96j8FlLPrZjDyv6Vi24liM+A/yhDmTKQy3T8XVdN2ZlHtPx2N2TWr5/Q/oOpuQXCPz7/edqwuYmXpvwGogGRmDMk/H/fXkIj2+79EUwS5jtvdP7r/ncig2+4/e4c8aOvmtr879fegtIfwv/QwATBvkf6/KQqPQPZFzD8nkROIXjHRP94RMTHrP+q/G1TFi+XE/D+oGHJYC+L0vzUCLW6tIp2/3iF/cRma6b9AMxdtQGPdPxH92Yj47ua/y58iVrhb6T/fEEuMPZXsv6kLcgTpePC/oBZU27st4z9N+56pmRnOP4AHuj8N+rU/p74ElaTd7T8=",
          "dtype": "f8"
         },
         "y": {
          "bdata": "qdYAUUaHw79EKUapG/0GQHCksw7Tw9g/KxldUC3N0b+Tfl4Ra4fPP2wladUmbLy/6WXdlGDF8L/dvR/xHMHcvzODMY9V6ce/kb6qxfBS/L+ka20owQLcv5ae4Gctr/G/sZ02McPd4D99V5Qakd7evym/8TxAH+C/HwNlKC1ayb8kOzVD8orcP+Xbpqzt8tk/dAIHwMff6b8xjjl99fHrv9GLP7wcvPi/CLhjwpH18z931HnyGJ0BQGs4EyE0Qry/Ua5kajrm0D/av32FLj2hv4FSZhL15MW/ndIPNvIm/r92jb80TLjAPzE2zCqRde0/b7BILz4P9T+W52+btDbyv+BDLORPFfa/4CUy43r75z+W9YvXk+T+PzkplCMRF+o/Hq3coRxU+z99dbmOs9/1P1tv6FxAkPk/SUSVOyiVyD8hx3dNn1ThP8DIQP8Xo+2/DlIjKj4dxb/iDLjeLkqrv61+tTJ1XdG/4hWOY3KA7r+jb+M9J8iwv52/laSdUvG/DPMMwb5f0T9XgM+wKmn1PzD5CLTIu/4/p3sII6rf9T+HXHwgvQHzPxMtsc/UtvA/bujCdKbW4b86IYmngWThP2K0YFMTW/W/HeEcSymr0L9AfQMhpOQAQDqSSHebqag/8GrGer7x9T8Zc2feXo7fP0+m2OUza9E/e5H6j7A/2L9d7afT4DbWv5kYSLleLfE/Z7qN25zu1j+Ua4RgC4Tzv03NqN+j3d2/vPJIZZxX7T+3SEtxsZLXv1nIL3pIvvA/NU34VIGr47+AM7x12F/Qv9BVbm1BhvQ/de11X1zf4z8BNrTI2bvhP60ZKz2Ud/m/+Vdsb6txuT+LFnO/uIDzvyNBnvaie/u/jfTFK4W+3z/LqIKZbUvkv8gCh1gyDeC/urk+yoAl5L/w6wENuqHwv9KNfDZgnug/FxNwjyNh7L91O1pfvePUPwTKmDYqEuE/IXAl1upq8j/QXK5RsEn7P88QEeRXKtC/6dvoWIz94z+KoofBDuDYv8F9hc8hhtQ/QXlLvo1rn79MoxAhJ6bQP6fO0ftUJQDAa642KUUa3r8=",
          "dtype": "f8"
         },
         "z": {
          "bdata": "wi/1MRtSJcBE72EYmx9iQFDXYVzkS1JArrSFkVrpRcC6+uJ6epBCQIQ7P5ulaj3AJSdFSK6qUMCzE1IBVJA+wKy4Atw0dzfANzz5KAJ5R8CASp6DeKNGwKM25LEnE1HArhiQosRAUkAUh9C8/AViQGRSU+EPrmFA2ALITi8oUMAtnMp/W15WQIuf0G+TMjtAxDuWOC1fKEAWqVGces5VwJSCdJCwJSXAfmfHnzDjWcC9AtW38T5CwPBNNQQO8WHA5MnIFNHDW0C2RfOymA5dQLFOtl7LND5Al6hIObTtOsDalEdYayVKQLM7C2P08E7A6jqEnFYjVcB4AY1AeoVgwFa0DzCC4VrAwKEa5wJgMMCwb0EcqHxKwKkxzkRdOEzAXLBmqHs7WUCVePFNHsdGQD0EhG6cmWJAI/97/oSYG8CC+RsbRPxNQBQuMLKq90vAB3y+IBE9WUD1cg8Lik5oQMKp467Fu2HAhDvz67F0UkB4S+WpCBAVQBuQUkWXqU1ArX6EP9zJUUDgjB2Bt6HtvzLFRfACSDdAhkQM+nJGY8DAgfONUPFiwGfpP2EX21TA4FqMhikrF0BGSd7rPhpdQDTbVsjJrUPAClIUVJeATsCwc/glnu9kQC4vvo4xgVLAtOYKZn6CUECghH7bdf4ZQPIxY6YgfEFA+A7AkxNZVUCEU9npEztIwLql9c74NWDAbdMw96idVsDTyoz3OhlmwGRiC/59ZT9AmWPXjEoHTEAg1ClUV2hQwIoHV6PQAEDALX8/nU25QcCe2STKTPc8QHwGDZvCK2JA8NGupEIRSUCgCsohhonxv6Bp8L5l3D7ApyAFGY/dU8B/v3nkKvlUQBH9bFP6bCFAZ+1aAxq1OsBiNCa4J9YwwCLnOa26TkvAQBkS+Z0XQcA85icOupQSQJgeS7AnXzBAZKXhbqCjV0DPvJJL5PI6wA7jOFLYVSzABUwvQ8kcMsCi+QDbwoggQJhbyyGpgjlArqZl5t2sTEC3qODT+p1ZwPqwrrH+OzlANA6eyHbmLUAOzgijMVY6QDy95JztulnAsMK27+YeJcA=",
          "dtype": "f8"
         }
        },
        {
         "type": "surface",
         "x": {
          "bdata": "AAAAAAAAFMDHcRzHcRwPwI7jOI7jOAbAqqqqqqqq+r9wHMdxHMfhv3Acx3Ecx+E/rKqqqqqq+j+Q4ziO4zgGQMhxHMdxHA9AAAAAAAAAFEA=",
          "dtype": "f8"
         },
         "y": {
          "bdata": "AAAAAAAAFMDHcRzHcRwPwI7jOI7jOAbAqqqqqqqq+r9wHMdxHMfhv3Acx3Ecx+E/rKqqqqqq+j+Q4ziO4zgGQMhxHMdxHA9AAAAAAAAAFEA=",
          "dtype": "f8"
         },
         "z": {
          "bdata": "4ySN/k8cc8CfxGSkSBRvwHc/r0vx72fAT7r58pnLYMBOaog0hU5TwAGAdQxaFzTAolSbXLCFQkCjtLjfhotXQHjfkcga6mJAnmRHIXIOakB5SkTBg2hywMoP0ymwrG3Aoood0ViIZsD0CtDwAshewKUAZT9Uf1DAurLPbyy1IcD0J+JGEiRIQEwe3NS3WlpATJQjQ7NRZEByGdmbCnZrQA5w+4O3tHHA9lpBrxdFbMDO1YtWwCBlwEuhrPvR+FvA+C2DlEZgS8A4ai7lbBEDQEb7KDF0wk1A9Yf/yegpXUAhSbW9S7llQEfOahaj3WxApJWyRusAccAipq80f91qwPog+tsnuWPAojeJBqEpWcCmWjyq5MFFwNTnZuLiPStATOe3DWuwUUCe8SK/GflfQPX9RjjkIGdAG4P8kDtFbkA6u2kJH01wwE3xHbrmdWnAJWxoYY9RYsD5zWURcFpWwFSH9b+CI0DAjhrBRbXbOED1UNsCnH9UQKMtI1olZGFAyrLYsnyIaEDwN44L1KxvQKDBQZilMm/AeTyMP04OaMBRt9bm9ulgwFFkQhw/i1PACGhdq0EKNcCYYCeNPAxCQJ26/vfMTldAd+K01L3LYkCeZ2otFfBpQGL2D0M2inBAywywHQ3LbcCkh/rEtaZmwPcEiti8BF/Ap/oeJw68UMDGgp+t+5ojwOozbneeqkdARyQi7f0dWkBMl0ZPVjNkQHMc/KetV2tAzNBYgAI+cUD3Vx6jdGNswNDSaEodP2XATptm44s1XMD8IfdjutlLwCBU3ttf9PY/Pge1YQBJTUDwjUXiLu1cQCBM2MnummVAR9GNIka/bEA3q6G9zvFxQCKjjCjc+2rA/B3Xz4TXY8CmMUPuWmZZwKxOsHlYO0bAxheXpBNYKUBH7f0lsXNRQJj3aNdfvF9A9ABqRIcCZ0Achh+d3iZuQKGF6vqapXJATu76rUOUacAnaUVV7G9iwP3HH/kpl1bAWntpj/acQMCHMtmmzeg3QPBWIRviQlRAoDBGZshFYUDJtfu+H2poQPA6sRd3jm9AC2AzOGdZc0A=",
          "dtype": "f8",
          "shape": "10, 10"
         }
        }
       ],
       "layout": {
        "legend": {
         "tracegroupgap": 0
        },
        "margin": {
         "t": 60
        },
        "scene": {
         "domain": {
          "x": [
           0,
           1
          ],
          "y": [
           0,
           1
          ]
         },
         "xaxis": {
          "title": {
           "text": "feature 1"
          }
         },
         "yaxis": {
          "title": {
           "text": "feature 2"
          }
         },
         "zaxis": {
          "title": {
           "text": "target"
          }
         }
        },
        "template": {
         "data": {
          "bar": [
           {
            "error_x": {
             "color": "#2a3f5f"
            },
            "error_y": {
             "color": "#2a3f5f"
            },
            "marker": {
             "line": {
              "color": "#E5ECF6",
              "width": 0.5
             },
             "pattern": {
              "fillmode": "overlay",
              "size": 10,
              "solidity": 0.2
             }
            },
            "type": "bar"
           }
          ],
          "barpolar": [
           {
            "marker": {
             "line": {
              "color": "#E5ECF6",
              "width": 0.5
             },
             "pattern": {
              "fillmode": "overlay",
              "size": 10,
              "solidity": 0.2
             }
            },
            "type": "barpolar"
           }
          ],
          "carpet": [
           {
            "aaxis": {
             "endlinecolor": "#2a3f5f",
             "gridcolor": "white",
             "linecolor": "white",
             "minorgridcolor": "white",
             "startlinecolor": "#2a3f5f"
            },
            "baxis": {
             "endlinecolor": "#2a3f5f",
             "gridcolor": "white",
             "linecolor": "white",
             "minorgridcolor": "white",
             "startlinecolor": "#2a3f5f"
            },
            "type": "carpet"
           }
          ],
          "choropleth": [
           {
            "colorbar": {
             "outlinewidth": 0,
             "ticks": ""
            },
            "type": "choropleth"
           }
          ],
          "contour": [
           {
            "colorbar": {
             "outlinewidth": 0,
             "ticks": ""
            },
            "colorscale": [
             [
              0,
              "#0d0887"
             ],
             [
              0.1111111111111111,
              "#46039f"
             ],
             [
              0.2222222222222222,
              "#7201a8"
             ],
             [
              0.3333333333333333,
              "#9c179e"
             ],
             [
              0.4444444444444444,
              "#bd3786"
             ],
             [
              0.5555555555555556,
              "#d8576b"
             ],
             [
              0.6666666666666666,
              "#ed7953"
             ],
             [
              0.7777777777777778,
              "#fb9f3a"
             ],
             [
              0.8888888888888888,
              "#fdca26"
             ],
             [
              1,
              "#f0f921"
             ]
            ],
            "type": "contour"
           }
          ],
          "contourcarpet": [
           {
            "colorbar": {
             "outlinewidth": 0,
             "ticks": ""
            },
            "type": "contourcarpet"
           }
          ],
          "heatmap": [
           {
            "colorbar": {
             "outlinewidth": 0,
             "ticks": ""
            },
            "colorscale": [
             [
              0,
              "#0d0887"
             ],
             [
              0.1111111111111111,
              "#46039f"
             ],
             [
              0.2222222222222222,
              "#7201a8"
             ],
             [
              0.3333333333333333,
              "#9c179e"
             ],
             [
              0.4444444444444444,
              "#bd3786"
             ],
             [
              0.5555555555555556,
              "#d8576b"
             ],
             [
              0.6666666666666666,
              "#ed7953"
             ],
             [
              0.7777777777777778,
              "#fb9f3a"
             ],
             [
              0.8888888888888888,
              "#fdca26"
             ],
             [
              1,
              "#f0f921"
             ]
            ],
            "type": "heatmap"
           }
          ],
          "histogram": [
           {
            "marker": {
             "pattern": {
              "fillmode": "overlay",
              "size": 10,
              "solidity": 0.2
             }
            },
            "type": "histogram"
           }
          ],
          "histogram2d": [
           {
            "colorbar": {
             "outlinewidth": 0,
             "ticks": ""
            },
            "colorscale": [
             [
              0,
              "#0d0887"
             ],
             [
              0.1111111111111111,
              "#46039f"
             ],
             [
              0.2222222222222222,
              "#7201a8"
             ],
             [
              0.3333333333333333,
              "#9c179e"
             ],
             [
              0.4444444444444444,
              "#bd3786"
             ],
             [
              0.5555555555555556,
              "#d8576b"
             ],
             [
              0.6666666666666666,
              "#ed7953"
             ],
             [
              0.7777777777777778,
              "#fb9f3a"
             ],
             [
              0.8888888888888888,
              "#fdca26"
             ],
             [
              1,
              "#f0f921"
             ]
            ],
            "type": "histogram2d"
           }
          ],
          "histogram2dcontour": [
           {
            "colorbar": {
             "outlinewidth": 0,
             "ticks": ""
            },
            "colorscale": [
             [
              0,
              "#0d0887"
             ],
             [
              0.1111111111111111,
              "#46039f"
             ],
             [
              0.2222222222222222,
              "#7201a8"
             ],
             [
              0.3333333333333333,
              "#9c179e"
             ],
             [
              0.4444444444444444,
              "#bd3786"
             ],
             [
              0.5555555555555556,
              "#d8576b"
             ],
             [
              0.6666666666666666,
              "#ed7953"
             ],
             [
              0.7777777777777778,
              "#fb9f3a"
             ],
             [
              0.8888888888888888,
              "#fdca26"
             ],
             [
              1,
              "#f0f921"
             ]
            ],
            "type": "histogram2dcontour"
           }
          ],
          "mesh3d": [
           {
            "colorbar": {
             "outlinewidth": 0,
             "ticks": ""
            },
            "type": "mesh3d"
           }
          ],
          "parcoords": [
           {
            "line": {
             "colorbar": {
              "outlinewidth": 0,
              "ticks": ""
             }
            },
            "type": "parcoords"
           }
          ],
          "pie": [
           {
            "automargin": true,
            "type": "pie"
           }
          ],
          "scatter": [
           {
            "fillpattern": {
             "fillmode": "overlay",
             "size": 10,
             "solidity": 0.2
            },
            "type": "scatter"
           }
          ],
          "scatter3d": [
           {
            "line": {
             "colorbar": {
              "outlinewidth": 0,
              "ticks": ""
             }
            },
            "marker": {
             "colorbar": {
              "outlinewidth": 0,
              "ticks": ""
             }
            },
            "type": "scatter3d"
           }
          ],
          "scattercarpet": [
           {
            "marker": {
             "colorbar": {
              "outlinewidth": 0,
              "ticks": ""
             }
            },
            "type": "scattercarpet"
           }
          ],
          "scattergeo": [
           {
            "marker": {
             "colorbar": {
              "outlinewidth": 0,
              "ticks": ""
             }
            },
            "type": "scattergeo"
           }
          ],
          "scattergl": [
           {
            "marker": {
             "colorbar": {
              "outlinewidth": 0,
              "ticks": ""
             }
            },
            "type": "scattergl"
           }
          ],
          "scattermap": [
           {
            "marker": {
             "colorbar": {
              "outlinewidth": 0,
              "ticks": ""
             }
            },
            "type": "scattermap"
           }
          ],
          "scattermapbox": [
           {
            "marker": {
             "colorbar": {
              "outlinewidth": 0,
              "ticks": ""
             }
            },
            "type": "scattermapbox"
           }
          ],
          "scatterpolar": [
           {
            "marker": {
             "colorbar": {
              "outlinewidth": 0,
              "ticks": ""
             }
            },
            "type": "scatterpolar"
           }
          ],
          "scatterpolargl": [
           {
            "marker": {
             "colorbar": {
              "outlinewidth": 0,
              "ticks": ""
             }
            },
            "type": "scatterpolargl"
           }
          ],
          "scatterternary": [
           {
            "marker": {
             "colorbar": {
              "outlinewidth": 0,
              "ticks": ""
             }
            },
            "type": "scatterternary"
           }
          ],
          "surface": [
           {
            "colorbar": {
             "outlinewidth": 0,
             "ticks": ""
            },
            "colorscale": [
             [
              0,
              "#0d0887"
             ],
             [
              0.1111111111111111,
              "#46039f"
             ],
             [
              0.2222222222222222,
              "#7201a8"
             ],
             [
              0.3333333333333333,
              "#9c179e"
             ],
             [
              0.4444444444444444,
              "#bd3786"
             ],
             [
              0.5555555555555556,
              "#d8576b"
             ],
             [
              0.6666666666666666,
              "#ed7953"
             ],
             [
              0.7777777777777778,
              "#fb9f3a"
             ],
             [
              0.8888888888888888,
              "#fdca26"
             ],
             [
              1,
              "#f0f921"
             ]
            ],
            "type": "surface"
           }
          ],
          "table": [
           {
            "cells": {
             "fill": {
              "color": "#EBF0F8"
             },
             "line": {
              "color": "white"
             }
            },
            "header": {
             "fill": {
              "color": "#C8D4E3"
             },
             "line": {
              "color": "white"
             }
            },
            "type": "table"
           }
          ]
         },
         "layout": {
          "annotationdefaults": {
           "arrowcolor": "#2a3f5f",
           "arrowhead": 0,
           "arrowwidth": 1
          },
          "autotypenumbers": "strict",
          "coloraxis": {
           "colorbar": {
            "outlinewidth": 0,
            "ticks": ""
           }
          },
          "colorscale": {
           "diverging": [
            [
             0,
             "#8e0152"
            ],
            [
             0.1,
             "#c51b7d"
            ],
            [
             0.2,
             "#de77ae"
            ],
            [
             0.3,
             "#f1b6da"
            ],
            [
             0.4,
             "#fde0ef"
            ],
            [
             0.5,
             "#f7f7f7"
            ],
            [
             0.6,
             "#e6f5d0"
            ],
            [
             0.7,
             "#b8e186"
            ],
            [
             0.8,
             "#7fbc41"
            ],
            [
             0.9,
             "#4d9221"
            ],
            [
             1,
             "#276419"
            ]
           ],
           "sequential": [
            [
             0,
             "#0d0887"
            ],
            [
             0.1111111111111111,
             "#46039f"
            ],
            [
             0.2222222222222222,
             "#7201a8"
            ],
            [
             0.3333333333333333,
             "#9c179e"
            ],
            [
             0.4444444444444444,
             "#bd3786"
            ],
            [
             0.5555555555555556,
             "#d8576b"
            ],
            [
             0.6666666666666666,
             "#ed7953"
            ],
            [
             0.7777777777777778,
             "#fb9f3a"
            ],
            [
             0.8888888888888888,
             "#fdca26"
            ],
            [
             1,
             "#f0f921"
            ]
           ],
           "sequentialminus": [
            [
             0,
             "#0d0887"
            ],
            [
             0.1111111111111111,
             "#46039f"
            ],
            [
             0.2222222222222222,
             "#7201a8"
            ],
            [
             0.3333333333333333,
             "#9c179e"
            ],
            [
             0.4444444444444444,
             "#bd3786"
            ],
            [
             0.5555555555555556,
             "#d8576b"
            ],
            [
             0.6666666666666666,
             "#ed7953"
            ],
            [
             0.7777777777777778,
             "#fb9f3a"
            ],
            [
             0.8888888888888888,
             "#fdca26"
            ],
            [
             1,
             "#f0f921"
            ]
           ]
          },
          "colorway": [
           "#636efa",
           "#EF553B",
           "#00cc96",
           "#ab63fa",
           "#FFA15A",
           "#19d3f3",
           "#FF6692",
           "#B6E880",
           "#FF97FF",
           "#FECB52"
          ],
          "font": {
           "color": "#2a3f5f"
          },
          "geo": {
           "bgcolor": "white",
           "lakecolor": "white",
           "landcolor": "#E5ECF6",
           "showlakes": true,
           "showland": true,
           "subunitcolor": "white"
          },
          "hoverlabel": {
           "align": "left"
          },
          "hovermode": "closest",
          "mapbox": {
           "style": "light"
          },
          "paper_bgcolor": "white",
          "plot_bgcolor": "#E5ECF6",
          "polar": {
           "angularaxis": {
            "gridcolor": "white",
            "linecolor": "white",
            "ticks": ""
           },
           "bgcolor": "#E5ECF6",
           "radialaxis": {
            "gridcolor": "white",
            "linecolor": "white",
            "ticks": ""
           }
          },
          "scene": {
           "xaxis": {
            "backgroundcolor": "#E5ECF6",
            "gridcolor": "white",
            "gridwidth": 2,
            "linecolor": "white",
            "showbackground": true,
            "ticks": "",
            "zerolinecolor": "white"
           },
           "yaxis": {
            "backgroundcolor": "#E5ECF6",
            "gridcolor": "white",
            "gridwidth": 2,
            "linecolor": "white",
            "showbackground": true,
            "ticks": "",
            "zerolinecolor": "white"
           },
           "zaxis": {
            "backgroundcolor": "#E5ECF6",
            "gridcolor": "white",
            "gridwidth": 2,
            "linecolor": "white",
            "showbackground": true,
            "ticks": "",
            "zerolinecolor": "white"
           }
          },
          "shapedefaults": {
           "line": {
            "color": "#2a3f5f"
           }
          },
          "ternary": {
           "aaxis": {
            "gridcolor": "white",
            "linecolor": "white",
            "ticks": ""
           },
           "baxis": {
            "gridcolor": "white",
            "linecolor": "white",
            "ticks": ""
           },
           "bgcolor": "#E5ECF6",
           "caxis": {
            "gridcolor": "white",
            "linecolor": "white",
            "ticks": ""
           }
          },
          "title": {
           "x": 0.05
          },
          "xaxis": {
           "automargin": true,
           "gridcolor": "white",
           "linecolor": "white",
           "ticks": "",
           "title": {
            "standoff": 15
           },
           "zerolinecolor": "white",
           "zerolinewidth": 2
          },
          "yaxis": {
           "automargin": true,
           "gridcolor": "white",
           "linecolor": "white",
           "ticks": "",
           "title": {
            "standoff": 15
           },
           "zerolinecolor": "white",
           "zerolinewidth": 2
          }
         }
        }
       }
      }
     },
     "metadata": {},
     "output_type": "display_data"
    }
   ],
   "source": [
    "fig = px.scatter_3d(dataset,x='feature 1',y='feature 2',z = 'target')\n",
    "fig.add_trace(go.Surface(x=x,y=y,z=z))\n",
    "fig.show()"
   ]
  },
  {
   "cell_type": "code",
   "execution_count": 50,
   "metadata": {},
   "outputs": [
    {
     "data": {
      "text/plain": [
       "array([51.42209618, 10.11362682])"
      ]
     },
     "execution_count": 50,
     "metadata": {},
     "output_type": "execute_result"
    }
   ],
   "source": [
    "mlr.coef_"
   ]
  },
  {
   "cell_type": "code",
   "execution_count": 51,
   "metadata": {},
   "outputs": [
    {
     "data": {
      "text/plain": [
       "1.9090851065350414"
      ]
     },
     "execution_count": 51,
     "metadata": {},
     "output_type": "execute_result"
    }
   ],
   "source": [
    "mlr.intercept_"
   ]
  }
 ],
 "metadata": {
  "kernelspec": {
   "display_name": "Python 3",
   "language": "python",
   "name": "python3"
  },
  "language_info": {
   "codemirror_mode": {
    "name": "ipython",
    "version": 3
   },
   "file_extension": ".py",
   "mimetype": "text/x-python",
   "name": "python",
   "nbconvert_exporter": "python",
   "pygments_lexer": "ipython3",
   "version": "3.12.4"
  }
 },
 "nbformat": 4,
 "nbformat_minor": 2
}
